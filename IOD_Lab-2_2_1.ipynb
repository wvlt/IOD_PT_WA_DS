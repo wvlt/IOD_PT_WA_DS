{
 "cells": [
  {
   "cell_type": "markdown",
   "metadata": {
    "id": "7wcSELnGVSPN"
   },
   "source": [
    "<div>\n",
    "<img src=https://www.institutedata.com/wp-content/uploads/2019/10/iod_h_tp_primary_c.svg width=\"300\">\n",
    "</div>"
   ]
  },
  {
   "cell_type": "markdown",
   "metadata": {
    "id": "8Bf5LD7ZVbQd"
   },
   "source": [
    "# Lab 2.2.1"
   ]
  },
  {
   "cell_type": "markdown",
   "metadata": {
    "id": "MK0PFPnmVQQs"
   },
   "source": [
    "# Data\n",
    "\n",
    "> The sinking of the RMS Titanic is one of the most infamous shipwrecks in history.  On April 15, 1912, during her maiden voyage, the Titanic sank after colliding with an iceberg, killing 1502 out of 2224 passengers and crew. This sensational tragedy shocked the international community and led to better safety regulations for ships.\n",
    "\n",
    "> One of the reasons that the shipwreck led to such loss of life was that there were not enough lifeboats for the passengers and crew. Although there was some element of luck involved in surviving the sinking, some groups of people were more likely to survive than others, such as women, children, and the upper-class.\n",
    "\n",
    "In this lab, we'll explore this dataset to find insight.\n",
    "\n",
    "[Titanic Dataset](https://www.kaggle.com/c/titanic/data)"
   ]
  },
  {
   "cell_type": "markdown",
   "metadata": {
    "id": "Te9iSnCNVQQv"
   },
   "source": [
    "# Data Dictionary\n",
    "\n",
    "| Variable |                                 Definition | Key                                            |\n",
    "|----------|-------------------------------------------:|------------------------------------------------|\n",
    "| Survival | Survival                                   | 0 = No, 1 = Yes                                |\n",
    "| Pclass   | Ticket class                               | 1 = 1st, 2 = 2nd, 3 = 3rd                      |\n",
    "| Sex      | Sex                                        |                                                |\n",
    "| Age      | Age in years                               |                                                |\n",
    "| SibSp    | # of siblings / spouses aboard the Titanic |                                                |\n",
    "| Parch    | # of parents / children aboard the Titanic |                                                |\n",
    "| Ticket   | Ticket number                              |                                                |\n",
    "| Fare     | Passenger fare                             |                                                |\n",
    "| Cabin    | Cabin number                               |                                                |\n",
    "| Embarked | Port of Embarkation                        | C = Cherbourg, Q = Queenstown, S = Southampton |"
   ]
  },
  {
   "cell_type": "markdown",
   "metadata": {
    "id": "8CM9meP1VQQw"
   },
   "source": [
    "# Loading Modules"
   ]
  },
  {
   "cell_type": "code",
   "execution_count": null,
   "metadata": {
    "id": "GHFxoWnSVQQx"
   },
   "outputs": [],
   "source": [
    "# Load necessary libraries\n",
    "import pandas as pd\n",
    "import numpy as np\n",
    "import matplotlib.pyplot as plt\n",
    "\n",
    "%matplotlib inline"
   ]
  },
  {
   "cell_type": "markdown",
   "metadata": {
    "id": "XcpBXT93VQQ0"
   },
   "source": [
    "# Loading Dataset\n",
    "\n",
    "Read titanic dataset."
   ]
  },
  {
   "cell_type": "code",
   "execution_count": null,
   "metadata": {
    "ExecuteTime": {
     "end_time": "2019-09-30T02:38:12.074784Z",
     "start_time": "2019-09-30T02:38:12.069797Z"
    },
    "id": "34iS-SdQVQQ1"
   },
   "outputs": [],
   "source": [
    "# Read Titanic Dataset\n",
    "titanic_csv = 'titanic.csv'\n",
    "titanic = pd.read_csv(titanic_csv)"
   ]
  },
  {
   "cell_type": "markdown",
   "metadata": {
    "id": "miTc8lnzVQQ3"
   },
   "source": [
    "# Explore Dataset"
   ]
  },
  {
   "cell_type": "markdown",
   "metadata": {
    "id": "dM51XXicVQQ4"
   },
   "source": [
    "## Head"
   ]
  },
  {
   "cell_type": "code",
   "execution_count": null,
   "metadata": {
    "id": "VrkXE3uOVQQ4",
    "outputId": "4d473d33-3f40-4c0c-e32e-70e4805f5ff0"
   },
   "outputs": [],
   "source": [
    "# Check Head\n",
    "titanic.head()"
   ]
  },
  {
   "cell_type": "markdown",
   "metadata": {
    "id": "zIMXv8K8VQQ7"
   },
   "source": [
    "## Tail"
   ]
  },
  {
   "cell_type": "code",
   "execution_count": null,
   "metadata": {
    "id": "7CiYeEZ9VQQ8",
    "outputId": "0e68469d-5cc7-4754-df65-7f717023f40c"
   },
   "outputs": [],
   "source": [
    "# Check Tail\n",
    "titanic.tail()"
   ]
  },
  {
   "cell_type": "markdown",
   "metadata": {
    "id": "sw6UIewHVQQ-"
   },
   "source": [
    "## Shape\n",
    "\n",
    "Find shape of dataset."
   ]
  },
  {
   "cell_type": "code",
   "execution_count": null,
   "metadata": {
    "ExecuteTime": {
     "end_time": "2019-09-30T02:38:43.687396Z",
     "start_time": "2019-09-30T02:38:43.684402Z"
    },
    "id": "yhPOlXcEVQQ_",
    "outputId": "2c08a546-0713-405e-8312-16ff4bcd8807"
   },
   "outputs": [],
   "source": [
    "# ANSWER\n",
    "titanic.shape"
   ]
  },
  {
   "cell_type": "markdown",
   "metadata": {
    "id": "QyohdWIWVQRB"
   },
   "source": [
    "## Check Types of Data\n",
    "\n",
    "Check types of data you have"
   ]
  },
  {
   "cell_type": "code",
   "execution_count": null,
   "metadata": {
    "ExecuteTime": {
     "end_time": "2019-09-30T02:58:17.575475Z",
     "start_time": "2019-09-30T02:58:17.571485Z"
    },
    "id": "z-3o2IuaVQRC",
    "outputId": "594c706c-82c1-45aa-ccc0-e51764bcc559"
   },
   "outputs": [],
   "source": [
    "# ANSWER\n",
    "titanic.dtypes"
   ]
  },
  {
   "cell_type": "markdown",
   "metadata": {
    "id": "xGJfiKgVVQRE"
   },
   "source": [
    "## Check Null Values\n",
    "\n",
    "Check whether dataset have any null values."
   ]
  },
  {
   "cell_type": "code",
   "execution_count": null,
   "metadata": {
    "ExecuteTime": {
     "end_time": "2019-09-30T02:58:37.576712Z",
     "start_time": "2019-09-30T02:58:37.573730Z"
    },
    "id": "BooTb2vBVQRF",
    "outputId": "e1b5bc65-df08-42db-8338-bebe961abe00"
   },
   "outputs": [],
   "source": [
    "# ANSWER\n",
    "titanic.isnull().sum()"
   ]
  },
  {
   "cell_type": "code",
   "execution_count": null,
   "metadata": {
    "id": "jYgrMoaH6wbm",
    "outputId": "c2550b4f-3432-4ec2-84e1-92a216855de6"
   },
   "outputs": [],
   "source": [
    "# Check titanic data again\n",
    "titanic.head()"
   ]
  },
  {
   "cell_type": "markdown",
   "metadata": {
    "id": "sIjPhOwTVQRH"
   },
   "source": [
    "## Fill Null Values\n",
    "\n",
    "Is there any null values in any columns? \n",
    "\n",
    "- Identify those columns\n",
    "- Fill those null values using your own logic\n",
    "    - State your logic behind every steps"
   ]
  },
  {
   "cell_type": "markdown",
   "metadata": {
    "id": "z9w1AEp_VQRJ"
   },
   "source": [
    "### Age"
   ]
  },
  {
   "cell_type": "code",
   "execution_count": null,
   "metadata": {
    "ExecuteTime": {
     "end_time": "2019-09-30T02:59:01.672353Z",
     "start_time": "2019-09-30T02:59:01.668361Z"
    },
    "id": "p3Ojk9ZgVQRK"
   },
   "outputs": [],
   "source": [
    "# ANSWER"
   ]
  },
  {
   "cell_type": "markdown",
   "metadata": {
    "id": "k-xDz63vVQRM"
   },
   "source": [
    "### Cabin"
   ]
  },
  {
   "cell_type": "code",
   "execution_count": null,
   "metadata": {
    "ExecuteTime": {
     "end_time": "2019-09-30T02:59:20.589858Z",
     "start_time": "2019-09-30T02:59:20.585870Z"
    },
    "id": "ECtFUl_mVQRM"
   },
   "outputs": [],
   "source": [
    "# ANSWER"
   ]
  },
  {
   "cell_type": "markdown",
   "metadata": {
    "id": "YswR0xl1VQRO"
   },
   "source": [
    "### Embarked"
   ]
  },
  {
   "cell_type": "code",
   "execution_count": null,
   "metadata": {
    "ExecuteTime": {
     "end_time": "2019-09-30T03:00:37.272457Z",
     "start_time": "2019-09-30T03:00:37.268471Z"
    },
    "id": "IkLCG8RrVQRP"
   },
   "outputs": [],
   "source": [
    "# ANSWER"
   ]
  },
  {
   "cell_type": "markdown",
   "metadata": {
    "id": "Zw-M5KfRVQRR"
   },
   "source": [
    "# Describe\n",
    "\n",
    "Describe your dataset."
   ]
  },
  {
   "cell_type": "code",
   "execution_count": null,
   "metadata": {
    "ExecuteTime": {
     "end_time": "2019-09-30T03:00:55.748437Z",
     "start_time": "2019-09-30T03:00:55.744449Z"
    },
    "id": "axUd1m0ZVQRS"
   },
   "outputs": [],
   "source": [
    "# ANSWER"
   ]
  },
  {
   "cell_type": "markdown",
   "metadata": {
    "id": "-RQ9hmVIVQRU"
   },
   "source": [
    "# Relationship between Features and Survival\n",
    "\n",
    "Find relationship between categorical features and survived.\n",
    "\n",
    "**Describe your findings.**"
   ]
  },
  {
   "cell_type": "code",
   "execution_count": null,
   "metadata": {
    "id": "-LhNetuZVQRV"
   },
   "outputs": [],
   "source": [
    "def bar_charts(df, feature):\n",
    "    '''\n",
    "    Inputs:\n",
    "    df: Dataset\n",
    "    feature: Name of Feature to Check With Survived\n",
    "    '''\n",
    "    _agg = {\n",
    "        'PassengerId': 'count'\n",
    "    }\n",
    "    _groupby = ['Survived', feature]\n",
    "\n",
    "    df_feature = df.groupby(by=_groupby).agg(_agg)\n",
    "    \n",
    "    ax = df_feature.unstack().plot(kind='bar', figsize=(15,6))\n",
    "    plt.legend(list(df_feature.index.levels[1].unique()))\n",
    "    plt.xlabel('Survived')\n",
    "    plt.xticks(np.arange(2), ('No', 'Yes'))\n",
    "    plt.show();"
   ]
  },
  {
   "cell_type": "markdown",
   "metadata": {
    "id": "vd9d2cn9VQRX"
   },
   "source": [
    "## Pclass\n",
    "\n",
    "Use barchart to find relationship between survived and pclass.  Note your findings."
   ]
  },
  {
   "cell_type": "code",
   "execution_count": null,
   "metadata": {
    "ExecuteTime": {
     "end_time": "2019-09-30T03:02:04.043957Z",
     "start_time": "2019-09-30T03:02:04.039969Z"
    },
    "id": "YcvUi3y1VQRY"
   },
   "outputs": [],
   "source": [
    "# ANSWER\n",
    "bar_charts(titanic, 'Pclass')"
   ]
  },
  {
   "cell_type": "markdown",
   "metadata": {
    "id": "zJLXH0HNVQRa"
   },
   "source": [
    "## Sex\n",
    "\n",
    "Use barchart to find relationship between survived and sex.  Note your findings."
   ]
  },
  {
   "cell_type": "code",
   "execution_count": null,
   "metadata": {
    "ExecuteTime": {
     "end_time": "2019-09-30T03:03:23.420605Z",
     "start_time": "2019-09-30T03:03:23.416645Z"
    },
    "id": "ass51dkPVQRa"
   },
   "outputs": [],
   "source": [
    "# ANSWER"
   ]
  },
  {
   "cell_type": "markdown",
   "metadata": {
    "id": "xGlcY9f2VQRc"
   },
   "source": [
    "## Parch\n",
    "\n",
    "Parch = Number of parents of children travelling with each passenger."
   ]
  },
  {
   "cell_type": "code",
   "execution_count": null,
   "metadata": {
    "ExecuteTime": {
     "end_time": "2019-09-30T03:03:43.588783Z",
     "start_time": "2019-09-30T03:03:43.584794Z"
    },
    "id": "ZvGfci3vVQRd"
   },
   "outputs": [],
   "source": [
    "# ANSWER"
   ]
  },
  {
   "cell_type": "markdown",
   "metadata": {
    "id": "hjI-7kutVQRh"
   },
   "source": [
    "## SibSp"
   ]
  },
  {
   "cell_type": "markdown",
   "metadata": {
    "id": "Fq63WZRaVQRi"
   },
   "source": [
    "## Embarked"
   ]
  },
  {
   "cell_type": "markdown",
   "metadata": {
    "id": "clJS-gHBVQRk"
   },
   "source": [
    "# Feature Engineering\n",
    "\n",
    "Create some new features from existing feature."
   ]
  },
  {
   "cell_type": "markdown",
   "metadata": {
    "id": "EsyXiJDJVQRl"
   },
   "source": [
    "## Fare Class\n",
    "\n",
    "Create a new class based on their fare. Is there any relationship between fare and survival? "
   ]
  },
  {
   "cell_type": "code",
   "execution_count": null,
   "metadata": {
    "id": "snFAHJadVQRl"
   },
   "outputs": [],
   "source": [
    "def create_fare_class(x):\n",
    "    if x > 30:\n",
    "        fare_class = 1\n",
    "    elif x > 20 and x <= 30:\n",
    "        fare_class = 2\n",
    "    elif x > 10 and x <= 20:\n",
    "        fare_class = 3\n",
    "    else:\n",
    "        fare_class = 4\n",
    "    return fare_class"
   ]
  },
  {
   "cell_type": "code",
   "execution_count": null,
   "metadata": {
    "ExecuteTime": {
     "end_time": "2019-09-30T03:05:50.199011Z",
     "start_time": "2019-09-30T03:05:50.195015Z"
    },
    "id": "LLGlreIuVQRn"
   },
   "outputs": [],
   "source": [
    "fare_class_list = []\n",
    "#titanic['Fare_class'] = 0\n",
    "for i in range(len(titanic)):\n",
    "    k = create_fare_class(titanic['Fare'][i])\n",
    "    fare_class_list.append(k)\n",
    "    #titanic['Fare_class'].loc[i] = k\n",
    "\n",
    "titanic['Fare_class'] = fare_class_list"
   ]
  },
  {
   "cell_type": "code",
   "execution_count": null,
   "metadata": {
    "id": "md3NOj7FUPmT"
   },
   "outputs": [],
   "source": [
    "titanic['Fare_class'] = titanic['Fare'].apply(create_fare_class)"
   ]
  },
  {
   "cell_type": "markdown",
   "metadata": {
    "id": "Xb6Rdtw9VQRp"
   },
   "source": [
    "## Age Class"
   ]
  },
  {
   "cell_type": "code",
   "execution_count": null,
   "metadata": {
    "ExecuteTime": {
     "end_time": "2019-09-30T03:18:04.132415Z",
     "start_time": "2019-09-30T03:18:04.128391Z"
    },
    "id": "2uBfHL0bVQRp"
   },
   "outputs": [],
   "source": [
    "# ANSWER"
   ]
  },
  {
   "cell_type": "code",
   "execution_count": null,
   "metadata": {
    "id": "irdrZGC0VQRs"
   },
   "outputs": [],
   "source": [
    "def create_age_class(x):\n",
    "    if x > 60:\n",
    "        age_class = 5\n",
    "    elif x > 35 and x <= 60:\n",
    "        age_class = 4\n",
    "    elif x > 25 and x <= 35:\n",
    "        age_class = 3\n",
    "    elif x > 16 and x <= 25:\n",
    "        age_class = 2\n",
    "    else:\n",
    "        age_class = 1\n",
    "    return age_class"
   ]
  },
  {
   "cell_type": "code",
   "execution_count": null,
   "metadata": {
    "ExecuteTime": {
     "end_time": "2019-09-30T03:18:13.115637Z",
     "start_time": "2019-09-30T03:18:13.112646Z"
    },
    "id": "nSysIPDYVQRu"
   },
   "outputs": [],
   "source": [
    "# ANSWER"
   ]
  },
  {
   "cell_type": "markdown",
   "metadata": {
    "id": "bHzvfjfAVQRv"
   },
   "source": [
    "# Statistical Overview"
   ]
  },
  {
   "cell_type": "markdown",
   "metadata": {
    "id": "FEwE4HgHVQRw"
   },
   "source": [
    "## Correlation\n",
    "\n",
    "Find correlation between `survived` and other features."
   ]
  },
  {
   "cell_type": "code",
   "execution_count": null,
   "metadata": {
    "id": "rdx8aVFNVQRw"
   },
   "outputs": [],
   "source": [
    "titanic.corr()"
   ]
  },
  {
   "cell_type": "code",
   "execution_count": null,
   "metadata": {
    "id": "276h2mPyrsoo"
   },
   "outputs": [],
   "source": [
    "sys_bp=[183, 152, 178, 157, 194, 163, 144, 114, 178, 152, 118, 158, 172, 138]\n",
    "\n",
    "mu=165"
   ]
  },
  {
   "cell_type": "code",
   "execution_count": null,
   "metadata": {
    "id": "NJHzFBUhfslK"
   },
   "outputs": [],
   "source": [
    "from scipy import stats\n",
    "\n",
    "t_statistic,p_value=stats.ttest_1samp(sys_bp,mu)"
   ]
  },
  {
   "cell_type": "code",
   "execution_count": null,
   "metadata": {
    "colab": {
     "base_uri": "https://localhost:8080/"
    },
    "executionInfo": {
     "elapsed": 525,
     "status": "ok",
     "timestamp": 1654678102256,
     "user": {
      "displayName": "Muru Raj",
      "userId": "16263509272652930332"
     },
     "user_tz": -420
    },
    "id": "n5lY1Wv0fspN",
    "outputId": "18acfd79-28ce-4134-a794-156a8f7d2ece"
   },
   "outputs": [],
   "source": [
    "p_value"
   ]
  },
  {
   "cell_type": "code",
   "execution_count": null,
   "metadata": {
    "colab": {
     "base_uri": "https://localhost:8080/"
    },
    "executionInfo": {
     "elapsed": 429,
     "status": "ok",
     "timestamp": 1654678129322,
     "user": {
      "displayName": "Muru Raj",
      "userId": "16263509272652930332"
     },
     "user_tz": -420
    },
    "id": "Dhvq6halfsss",
    "outputId": "76a4f0fc-f8c0-42f4-9109-8d8fb8f2dd56"
   },
   "outputs": [],
   "source": [
    "one_tailed_p_value=float(\"{:.6f}\".format(p_value/2)) # Since alternative hypothesis is one tailed, We need to divide the p value by 2.\n",
    "\n",
    "print('Test statistic is %f'%float(\"{:.6f}\".format(t_statistic)))\n",
    "print('p-value for one tailed test is %f'%one_tailed_p_value)"
   ]
  },
  {
   "cell_type": "code",
   "execution_count": null,
   "metadata": {
    "colab": {
     "base_uri": "https://localhost:8080/"
    },
    "executionInfo": {
     "elapsed": 1227,
     "status": "ok",
     "timestamp": 1654664564106,
     "user": {
      "displayName": "Muru Raj",
      "userId": "16263509272652930332"
     },
     "user_tz": -420
    },
    "id": "LRaC3zswrsx_",
    "outputId": "c2811ad0-a0f4-4c30-e58a-8f7d8e7b10fe"
   },
   "outputs": [],
   "source": [
    "sys_bp=[183, 152, 178, 157, 194, 163, 144, 114, 178, 152, 118, 158, 172, 138]\n",
    "\n",
    "mu=165\n",
    "\n",
    "\n",
    "from scipy import stats\n",
    "\n",
    "t_value,p_value=stats.ttest_1samp(sys_bp,mu)\n",
    "\n",
    "one_tailed_p_value=float(\"{:.6f}\".format(p_value/2)) # Since alternative hypothesis is one tailed, We need to divide the p value by 2.\n",
    "\n",
    "print('Test statistic is %f'%float(\"{:.6f}\".format(t_value)))\n",
    "print('p-value for one tailed test is %f'%one_tailed_p_value)\n",
    "\n",
    "alpha = 0.05\n",
    "if one_tailed_p_value<=alpha:\n",
    "\n",
    "    print('Conclusion','n','Since p-value(=%f)'%p_value,'<','alpha(=%.2f)'%alpha,'''We reject the null hypothesis H0. \n",
    "    So we conclude that there is a significant mean difference in systolic blood pressure. \n",
    "    i.e., μ = 165 at %.2f level of significance'''%alpha)\n",
    "\n",
    "else:\n",
    "\n",
    "    print('Conclusion','n','Since p-value(=%f)'%one_tailed_p_value,'>','alpha(=%.2f)'%alpha,'''We do not reject the null hypothesis H0.''')"
   ]
  },
  {
   "cell_type": "code",
   "execution_count": null,
   "metadata": {
    "id": "WGtd82furs1e"
   },
   "outputs": [],
   "source": [
    "#statistically significant means the null hypothesis got rejected."
   ]
  },
  {
   "cell_type": "markdown",
   "metadata": {
    "id": "MRocCdj0VQRy"
   },
   "source": [
    "# [BONUS] Hypothesis Testing\n",
    "---\n",
    "The usual process of null hypothesis testing consists of four steps.\n",
    "\n",
    "1. Formulate the null hypothesis H_0 (commonly, that the observations are the result of pure chance) and the alternative hypothesis H_a (commonly, that the observations show a real effect combined with a component of chance variation).\n",
    "\n",
    "2. Identify a test statistic that can be used to assess the truth of the null hypothesis.\n",
    "\n",
    "3. Compute the p-value, which is the probability that a test statistic at least as significant as the one observed would be obtained assuming that the null hypothesis were true. The smaller the p-value, the stronger the evidence against the null hypothesis.\n",
    "\n",
    "4. Compare the p-value to an acceptable significance value alpha (sometimes called an alpha value). If p<=alpha, that the observed effect is statistically significant, the null hypothesis is ruled out, and the alternative hypothesis is valid."
   ]
  },
  {
   "cell_type": "markdown",
   "metadata": {
    "id": "mSyZDV_KVQRz"
   },
   "source": [
    "### Define Hypothesis\n",
    "\n",
    "> Formulate the null hypothesis H_0 (commonly, that the observations are the result of pure chance) and the alternative hypothesis H_a (commonly, that the observations show a real effect combined with a component of chance variation).\n",
    "\n",
    "    Null Hypothesis (H0): There is no difference in the survival rate between the young and old passengers.\n",
    "\n",
    "    Alternative Hypothesis (HA): There is a difference in the survival rate between the young and old passengers."
   ]
  },
  {
   "cell_type": "markdown",
   "metadata": {
    "id": "4F4R2cPoVQR0"
   },
   "source": [
    "### Collect Data\n",
    "\n",
    "Next step is to collect data for each population group. \n",
    "\n",
    "Collect two sets of data, one with the passenger greater than 35 years of age and another one with the passenger younger than 35. The sample size should ideally be the same but it can be different. Lets say that the sample sizes is 100."
   ]
  },
  {
   "cell_type": "code",
   "execution_count": null,
   "metadata": {
    "ExecuteTime": {
     "end_time": "2019-09-30T03:15:52.694018Z",
     "start_time": "2019-09-30T03:15:52.689032Z"
    },
    "id": "N1e4bUIcVQR1"
   },
   "outputs": [],
   "source": [
    "# ANSWER"
   ]
  },
  {
   "cell_type": "markdown",
   "metadata": {
    "id": "bhRfTi_PVQR4"
   },
   "source": [
    "### Set alpha (let alpha = 0.05)\n",
    "\n",
    "> Identify a test statistic that can be used to assess the truth of the null hypothesis."
   ]
  },
  {
   "cell_type": "code",
   "execution_count": null,
   "metadata": {
    "ExecuteTime": {
     "end_time": "2019-09-30T03:16:00.572626Z",
     "start_time": "2019-09-30T03:16:00.568636Z"
    },
    "id": "8-y-fmZIVQR5"
   },
   "outputs": [],
   "source": [
    "# ANSWER"
   ]
  },
  {
   "cell_type": "markdown",
   "metadata": {
    "id": "kwRxiB2ZVQR7"
   },
   "source": [
    "### Calculate point estimate"
   ]
  },
  {
   "cell_type": "code",
   "execution_count": null,
   "metadata": {
    "id": "pLBXpOF3VQR8"
   },
   "outputs": [],
   "source": [
    "a = titanic_young['Survived']\n",
    "b = titanic_old['Survived']"
   ]
  },
  {
   "cell_type": "code",
   "execution_count": null,
   "metadata": {
    "id": "QU-4N9mTVQR_"
   },
   "outputs": [],
   "source": [
    "## Calculate the variance to get the standard deviation\n",
    "var_a = a.var(ddof = 1)\n",
    "var_b = b.var(ddof = 1)\n",
    "\n",
    "## Calculate the Standard Deviation\n",
    "s = np.sqrt((var_a + var_b)/2)"
   ]
  },
  {
   "cell_type": "markdown",
   "metadata": {
    "id": "-jEn1ds-VQSA"
   },
   "source": [
    "### Calculate test statistic"
   ]
  },
  {
   "cell_type": "code",
   "execution_count": null,
   "metadata": {
    "id": "s3SxkRBGVQSB"
   },
   "outputs": [],
   "source": [
    "## Calculate the t-statistic\n",
    "t = (a.mean() - b.mean())/(s*np.sqrt(2/N))"
   ]
  },
  {
   "cell_type": "markdown",
   "metadata": {
    "id": "w0c8ZzCUVQSC"
   },
   "source": [
    "### Find the p-value\n",
    "\n",
    "> Compute the P-value, which is the probability that a test statistic at least as significant as the one observed would be obtained assuming that the null hypothesis were true. The smaller the P-value, the stronger the evidence against the null hypothesis."
   ]
  },
  {
   "cell_type": "code",
   "execution_count": null,
   "metadata": {
    "id": "eaW2hoF2VQSE"
   },
   "outputs": [],
   "source": [
    "## Compare with the critical t-value\n",
    "## Degrees of freedom\n",
    "df = 2*N - 2\n",
    "\n",
    "#p-value after comparison with the t \n",
    "if (t > 0):\n",
    "    p = 1 - stats.t.cdf(t, df = df) \n",
    "else:\n",
    "    p = stats.t.cdf(t, df = df)"
   ]
  },
  {
   "cell_type": "code",
   "execution_count": null,
   "metadata": {
    "id": "YZsL2DI6VQSG"
   },
   "outputs": [],
   "source": [
    "print(\"t = \" + str(t))\n",
    "print(\"p = \" + str(2*p))"
   ]
  },
  {
   "cell_type": "markdown",
   "metadata": {
    "id": "zYAt-GyOVQSK"
   },
   "source": [
    "### Interpret results\n",
    "\n",
    "> Compare the p-value to an acceptable significance value  alpha (sometimes called an alpha value). If p<=alpha, that the observed effect is statistically significant, the null hypothesis is ruled out, and the alternative hypothesis is valid."
   ]
  },
  {
   "cell_type": "code",
   "execution_count": null,
   "metadata": {
    "id": "9a_HkzglVQSK"
   },
   "outputs": [],
   "source": [
    "def print_sig(p_value, alpha):\n",
    "    if p_value < alpha:\n",
    "        print(\"We reject our null hypothesis.\")\n",
    "    elif p_value > alpha:\n",
    "        print(\"We fail to reject our null hypothesis.\")\n",
    "    else:\n",
    "        print(\"Our test is inconclusive.\")"
   ]
  },
  {
   "cell_type": "code",
   "execution_count": null,
   "metadata": {
    "id": "j2QHMBE6VQSM"
   },
   "outputs": [],
   "source": [
    "## Cross Checking with the internal scipy function\n",
    "t2, p2 = stats.ttest_ind(a,b)\n",
    "print(\"t = \" + str(t2))\n",
    "print(\"p = \" + str(p2))\n",
    "\n",
    "print_sig(p2, alpha)"
   ]
  },
  {
   "cell_type": "markdown",
   "metadata": {
    "id": "HdJ9hO0Emlfq"
   },
   "source": [
    "\n",
    "\n",
    "---\n",
    "\n",
    "\n",
    "\n",
    "---\n",
    "\n",
    "\n",
    "\n",
    "> > > > > > > > > © 2023 Institute of Data\n",
    "\n",
    "\n",
    "---\n",
    "\n",
    "\n",
    "\n",
    "---\n",
    "\n",
    "\n",
    "\n"
   ]
  }
 ],
 "metadata": {
  "colab": {
   "collapsed_sections": [
    "z9w1AEp_VQRJ",
    "k-xDz63vVQRM",
    "YswR0xl1VQRO",
    "mSyZDV_KVQRz",
    "4F4R2cPoVQR0",
    "bhRfTi_PVQR4",
    "kwRxiB2ZVQR7",
    "-jEn1ds-VQSA",
    "w0c8ZzCUVQSC"
   ],
   "provenance": []
  },
  "kernelspec": {
   "display_name": "Python 3 (ipykernel)",
   "language": "python",
   "name": "python3"
  },
  "language_info": {
   "codemirror_mode": {
    "name": "ipython",
    "version": 3
   },
   "file_extension": ".py",
   "mimetype": "text/x-python",
   "name": "python",
   "nbconvert_exporter": "python",
   "pygments_lexer": "ipython3",
   "version": "3.8.8"
  },
  "varInspector": {
   "cols": {
    "lenName": 16,
    "lenType": 16,
    "lenVar": 40
   },
   "kernels_config": {
    "python": {
     "delete_cmd_postfix": "",
     "delete_cmd_prefix": "del ",
     "library": "var_list.py",
     "varRefreshCmd": "print(var_dic_list())"
    },
    "r": {
     "delete_cmd_postfix": ") ",
     "delete_cmd_prefix": "rm(",
     "library": "var_list.r",
     "varRefreshCmd": "cat(var_dic_list()) "
    }
   },
   "types_to_exclude": [
    "module",
    "function",
    "builtin_function_or_method",
    "instance",
    "_Feature"
   ],
   "window_display": false
  }
 },
 "nbformat": 4,
 "nbformat_minor": 4
}
