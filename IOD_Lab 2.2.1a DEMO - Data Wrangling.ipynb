{
 "cells": [
  {
   "cell_type": "markdown",
   "metadata": {
    "id": "7wcSELnGVSPN"
   },
   "source": [
    "<div>\n",
    "<img src=https://www.institutedata.com/wp-content/uploads/2019/10/iod_h_tp_primary_c.svg width=\"300\">\n",
    "</div>"
   ]
  },
  {
   "cell_type": "markdown",
   "metadata": {
    "id": "8Bf5LD7ZVbQd"
   },
   "source": [
    "# Lab 2.2.1a DEMO - Data Wrangling "
   ]
  },
  {
   "cell_type": "markdown",
   "metadata": {
    "id": "MK0PFPnmVQQs"
   },
   "source": [
    "# Data\n",
    "\n",
    "> The sinking of the RMS Titanic is one of the most infamous shipwrecks in history.  On April 15, 1912, during her maiden voyage, the Titanic sank after colliding with an iceberg, killing 1502 out of 2224 passengers and crew. This sensational tragedy shocked the international community and led to better safety regulations for ships.\n",
    "\n",
    "> One of the reasons that the shipwreck led to such loss of life was that there were not enough lifeboats for the passengers and crew. Although there was some element of luck involved in surviving the sinking, some groups of people were more likely to survive than others, such as women, children, and the upper-class.\n",
    "\n",
    "In this lab, we'll explore this dataset to find insight.\n",
    "\n",
    "[Titanic Dataset](https://www.kaggle.com/c/titanic/data)"
   ]
  },
  {
   "cell_type": "markdown",
   "metadata": {
    "id": "Te9iSnCNVQQv"
   },
   "source": [
    "# Data Dictionary\n",
    "\n",
    "| Variable |                                 Definition | Key                                            |\n",
    "|----------|-------------------------------------------:|------------------------------------------------|\n",
    "| Survival | Survival                                   | 0 = No, 1 = Yes                                |\n",
    "| Pclass   | Ticket class                               | 1 = 1st, 2 = 2nd, 3 = 3rd                      |\n",
    "| Sex      | Sex                                        |                                                |\n",
    "| Age      | Age in years                               |                                                |\n",
    "| SibSp    | # of siblings / spouses aboard the Titanic |                                                |\n",
    "| Parch    | # of parents / children aboard the Titanic |                                                |\n",
    "| Ticket   | Ticket number                              |                                                |\n",
    "| Fare     | Passenger fare                             |                                                |\n",
    "| Cabin    | Cabin number                               |                                                |\n",
    "| Embarked | Port of Embarkation                        | C = Cherbourg, Q = Queenstown, S = Southampton |"
   ]
  },
  {
   "cell_type": "markdown",
   "metadata": {
    "id": "8CM9meP1VQQw"
   },
   "source": [
    "# Loading Modules"
   ]
  },
  {
   "cell_type": "code",
   "execution_count": null,
   "metadata": {
    "id": "GHFxoWnSVQQx"
   },
   "outputs": [],
   "source": [
    "# Load necessary libraries\n",
    "import pandas as pd\n",
    "import numpy as np\n",
    "import matplotlib.pyplot as plt\n",
    "\n",
    "%matplotlib inline"
   ]
  },
  {
   "cell_type": "markdown",
   "metadata": {
    "id": "XcpBXT93VQQ0"
   },
   "source": [
    "# Loading Dataset\n",
    "\n",
    "Read titanic dataset."
   ]
  },
  {
   "cell_type": "code",
   "execution_count": null,
   "metadata": {
    "ExecuteTime": {
     "end_time": "2019-09-30T02:38:12.074784Z",
     "start_time": "2019-09-30T02:38:12.069797Z"
    },
    "id": "34iS-SdQVQQ1"
   },
   "outputs": [],
   "source": [
    "# Read Titanic Dataset... If in case the \"titanic.csv\" is missing, import \"titanic_train.csv\"\n",
    "titanic_csv = '../../DATA/titanic.csv'\n",
    "titanic = pd.read_csv(titanic_csv)"
   ]
  },
  {
   "cell_type": "code",
   "execution_count": null,
   "metadata": {
    "id": "137Drt3p8bfu",
    "outputId": "1f909f2b-86cd-41d2-d41a-b98b71a9377f"
   },
   "outputs": [],
   "source": [
    "titanic.head()"
   ]
  },
  {
   "cell_type": "code",
   "execution_count": null,
   "metadata": {
    "id": "68sbeoniefHY"
   },
   "outputs": [],
   "source": [
    "# #from google drive. #not working.\n",
    "# from google.colab import drive\n",
    "# drive.mount('/content/drive')\n",
    "# path = '../../DATA/titanic_train.csv'\n",
    "# titanic = pd.read_csv(path)\n",
    "# titanic.head()"
   ]
  },
  {
   "cell_type": "code",
   "execution_count": null,
   "metadata": {
    "id": "TIc0KiUjdNS3"
   },
   "outputs": [],
   "source": [
    "# from local machine\n",
    "# from google.colab import files\n",
    "# uploaded = files.upload()"
   ]
  },
  {
   "cell_type": "code",
   "execution_count": null,
   "metadata": {
    "id": "3f_WYKErd2n8"
   },
   "outputs": [],
   "source": [
    "# import pandas as pd\n",
    "# import io\n",
    " \n",
    "# titanic = pd.read_csv(io.BytesIO(uploaded['titanic.csv']))\n",
    "# titanic.head()"
   ]
  },
  {
   "cell_type": "markdown",
   "metadata": {
    "id": "miTc8lnzVQQ3"
   },
   "source": [
    "# Explore Dataset"
   ]
  },
  {
   "cell_type": "markdown",
   "metadata": {
    "id": "dM51XXicVQQ4"
   },
   "source": [
    "## Head\n",
    "Displays the first 5 rows of the data"
   ]
  },
  {
   "cell_type": "code",
   "execution_count": null,
   "metadata": {
    "colab": {
     "base_uri": "https://localhost:8080/",
     "height": 206
    },
    "executionInfo": {
     "elapsed": 943,
     "status": "ok",
     "timestamp": 1667459355485,
     "user": {
      "displayName": "smita agrawal",
      "userId": "04686904704582634040"
     },
     "user_tz": -780
    },
    "id": "VrkXE3uOVQQ4",
    "outputId": "88266a16-ef2e-4bcd-fb9b-77a563d9898f"
   },
   "outputs": [],
   "source": [
    "# Check Head\n",
    "titanic.head()"
   ]
  },
  {
   "cell_type": "markdown",
   "metadata": {
    "id": "zIMXv8K8VQQ7"
   },
   "source": [
    "## Tail\n",
    "Displays the last 5 rows of the data"
   ]
  },
  {
   "cell_type": "markdown",
   "metadata": {
    "id": "4-9RDs198bfx"
   },
   "source": [
    "## Tail\n",
    "Displays the last 5 rows of the data"
   ]
  },
  {
   "cell_type": "code",
   "execution_count": null,
   "metadata": {
    "colab": {
     "base_uri": "https://localhost:8080/",
     "height": 206
    },
    "executionInfo": {
     "elapsed": 33,
     "status": "ok",
     "timestamp": 1667459355486,
     "user": {
      "displayName": "smita agrawal",
      "userId": "04686904704582634040"
     },
     "user_tz": -780
    },
    "id": "7CiYeEZ9VQQ8",
    "outputId": "07162b62-76c7-4293-97c5-e380ccf94595"
   },
   "outputs": [],
   "source": [
    "# Check Tail\n",
    "titanic.tail()"
   ]
  },
  {
   "cell_type": "markdown",
   "metadata": {
    "id": "GYe1LPed8bfy"
   },
   "source": [
    "## Sample\n",
    "Displays the random 1 rows from the data"
   ]
  },
  {
   "cell_type": "code",
   "execution_count": null,
   "metadata": {
    "id": "yzTEDr_D8bfy",
    "outputId": "aff50d1e-9e92-4f28-d6d2-01727b6cd820"
   },
   "outputs": [],
   "source": [
    "titanic.sample(5)"
   ]
  },
  {
   "cell_type": "markdown",
   "metadata": {
    "id": "u8mBObek8bfy"
   },
   "source": [
    "### Exporting a data sample or even a dataframe to csv... \n",
    "## \"<dfname>.to_csv()\""
   ]
  },
  {
   "cell_type": "code",
   "execution_count": null,
   "metadata": {
    "id": "H3O6vIgm8bfy"
   },
   "outputs": [],
   "source": [
    "sample1 = titanic.sample(5)"
   ]
  },
  {
   "cell_type": "code",
   "execution_count": null,
   "metadata": {
    "id": "3eAPs7HL8bfy"
   },
   "outputs": [],
   "source": [
    "sample1.to_csv('sample1.csv', index=False)"
   ]
  },
  {
   "cell_type": "markdown",
   "metadata": {
    "id": "sw6UIewHVQQ-"
   },
   "source": [
    "## Shape\n",
    "\n",
    "Find shape of dataset."
   ]
  },
  {
   "cell_type": "code",
   "execution_count": null,
   "metadata": {
    "ExecuteTime": {
     "end_time": "2019-09-30T02:38:43.687396Z",
     "start_time": "2019-09-30T02:38:43.684402Z"
    },
    "colab": {
     "base_uri": "https://localhost:8080/"
    },
    "executionInfo": {
     "elapsed": 26,
     "status": "ok",
     "timestamp": 1667459355489,
     "user": {
      "displayName": "smita agrawal",
      "userId": "04686904704582634040"
     },
     "user_tz": -780
    },
    "id": "yhPOlXcEVQQ_",
    "outputId": "09d1f4e0-34ef-46ed-d604-bfbd25127b37"
   },
   "outputs": [],
   "source": [
    "# ANSWER\n",
    "titanic.shape"
   ]
  },
  {
   "cell_type": "markdown",
   "metadata": {
    "id": "QyohdWIWVQRB"
   },
   "source": [
    "## Check Types of Data\n",
    "\n",
    "Check types of data you have"
   ]
  },
  {
   "cell_type": "code",
   "execution_count": null,
   "metadata": {
    "ExecuteTime": {
     "end_time": "2019-09-30T02:58:17.575475Z",
     "start_time": "2019-09-30T02:58:17.571485Z"
    },
    "colab": {
     "base_uri": "https://localhost:8080/"
    },
    "executionInfo": {
     "elapsed": 27,
     "status": "ok",
     "timestamp": 1667459357001,
     "user": {
      "displayName": "smita agrawal",
      "userId": "04686904704582634040"
     },
     "user_tz": -780
    },
    "id": "z-3o2IuaVQRC",
    "outputId": "36ae97d9-dddb-44ae-887a-e547dc54e719"
   },
   "outputs": [],
   "source": [
    "# ANSWER\n",
    "titanic.dtypes"
   ]
  },
  {
   "cell_type": "code",
   "execution_count": null,
   "metadata": {
    "id": "HpeyjVla8bfz",
    "outputId": "17f9cf1d-3903-4dfc-efdd-d670738c0c33"
   },
   "outputs": [],
   "source": [
    "titanic.info()"
   ]
  },
  {
   "cell_type": "markdown",
   "metadata": {
    "id": "xGJfiKgVVQRE"
   },
   "source": [
    "## Check Null Values\n",
    "\n",
    "Check whether dataset have any null values."
   ]
  },
  {
   "cell_type": "code",
   "execution_count": null,
   "metadata": {
    "ExecuteTime": {
     "end_time": "2019-09-30T02:58:37.576712Z",
     "start_time": "2019-09-30T02:58:37.573730Z"
    },
    "colab": {
     "base_uri": "https://localhost:8080/"
    },
    "executionInfo": {
     "elapsed": 17,
     "status": "ok",
     "timestamp": 1667459357004,
     "user": {
      "displayName": "smita agrawal",
      "userId": "04686904704582634040"
     },
     "user_tz": -780
    },
    "id": "BooTb2vBVQRF",
    "outputId": "44898cd2-dd37-4b97-870f-f34b9d4be074"
   },
   "outputs": [],
   "source": [
    "# ANSWER\n",
    "titanic.isnull().sum()"
   ]
  },
  {
   "cell_type": "code",
   "execution_count": null,
   "metadata": {
    "colab": {
     "base_uri": "https://localhost:8080/",
     "height": 206
    },
    "executionInfo": {
     "elapsed": 12,
     "status": "ok",
     "timestamp": 1667459357006,
     "user": {
      "displayName": "smita agrawal",
      "userId": "04686904704582634040"
     },
     "user_tz": -780
    },
    "id": "WevoVU896ktV",
    "outputId": "41028be1-209d-4bf5-a83c-dc470bf40c23"
   },
   "outputs": [],
   "source": [
    "# Check titanic data again\n",
    "titanic.head()"
   ]
  },
  {
   "cell_type": "markdown",
   "metadata": {
    "id": "3PR3Ia1k6ktV"
   },
   "source": [
    "## Filter for all female passengers\n",
    "\n",
    "SQL equivalent:\n",
    "\n",
    "```\n",
    "SELECT * \n",
    "FROM titanic\n",
    "WHERE Sex = \"female\"\n",
    "```"
   ]
  },
  {
   "cell_type": "code",
   "execution_count": null,
   "metadata": {
    "id": "vefSurZ58bf0"
   },
   "outputs": [],
   "source": [
    "pd.set_option('display.max_rows', None)"
   ]
  },
  {
   "cell_type": "code",
   "execution_count": null,
   "metadata": {
    "colab": {
     "base_uri": "https://localhost:8080/",
     "height": 424
    },
    "executionInfo": {
     "elapsed": 43,
     "status": "ok",
     "timestamp": 1667459358480,
     "user": {
      "displayName": "smita agrawal",
      "userId": "04686904704582634040"
     },
     "user_tz": -780
    },
    "id": "Mj5eavgn6ktW",
    "outputId": "80940ce1-ad11-4ef3-9166-6beeb9609cae",
    "tags": []
   },
   "outputs": [],
   "source": [
    "# select all female passengers\n",
    "female_pass = titanic[(titanic['Sex'] == 'female')]\n",
    "female_pass"
   ]
  },
  {
   "cell_type": "code",
   "execution_count": null,
   "metadata": {
    "id": "1xZK2xb58bf0",
    "outputId": "be6f8f13-a587-4164-b370-70a6fafdf1eb"
   },
   "outputs": [],
   "source": [
    "titanic['Sex'].unique()"
   ]
  },
  {
   "cell_type": "code",
   "execution_count": null,
   "metadata": {
    "id": "L727CrI18bf1",
    "outputId": "5a9ce37e-555c-4881-ceea-9b721f7ca69f"
   },
   "outputs": [],
   "source": [
    "titanic['Sex'].value_counts()"
   ]
  },
  {
   "cell_type": "code",
   "execution_count": null,
   "metadata": {
    "colab": {
     "base_uri": "https://localhost:8080/",
     "height": 424
    },
    "executionInfo": {
     "elapsed": 41,
     "status": "ok",
     "timestamp": 1667459358482,
     "user": {
      "displayName": "smita agrawal",
      "userId": "04686904704582634040"
     },
     "user_tz": -780
    },
    "id": "mp9eq3FC6ktW",
    "outputId": "3aabc839-66dd-416e-9f68-a34922ba06d2"
   },
   "outputs": [],
   "source": [
    "# Try multiple conditions (AND)\n",
    "titanic[(titanic['Sex'] == 'female') & (titanic['Pclass'] == 1)].shape"
   ]
  },
  {
   "cell_type": "code",
   "execution_count": null,
   "metadata": {
    "colab": {
     "base_uri": "https://localhost:8080/",
     "height": 424
    },
    "executionInfo": {
     "elapsed": 40,
     "status": "ok",
     "timestamp": 1667459358483,
     "user": {
      "displayName": "smita agrawal",
      "userId": "04686904704582634040"
     },
     "user_tz": -780
    },
    "id": "bC88xUHg6ktX",
    "outputId": "52a4690a-acb1-46db-ff97-5b9e22eedf64"
   },
   "outputs": [],
   "source": [
    "# Try multiple conditions (OR)\n",
    "titanic[(titanic['Sex'] == 'female') | (titanic['Pclass'] == 1)].shape"
   ]
  },
  {
   "cell_type": "markdown",
   "metadata": {
    "id": "H7xTmnPj6ktX"
   },
   "source": [
    "## What is the mean fare by Pclass?\n",
    "\n",
    "SQL equivalent:\n",
    "\n",
    "```\n",
    "SELECT Pclass, AVG(Fare) \n",
    "FROM titanic\n",
    "GROUP BY Pclass\n",
    "```"
   ]
  },
  {
   "cell_type": "code",
   "execution_count": null,
   "metadata": {
    "colab": {
     "base_uri": "https://localhost:8080/"
    },
    "executionInfo": {
     "elapsed": 39,
     "status": "ok",
     "timestamp": 1667459358485,
     "user": {
      "displayName": "smita agrawal",
      "userId": "04686904704582634040"
     },
     "user_tz": -780
    },
    "id": "Hz-6d1RU6ktY",
    "outputId": "0c3bafed-6e50-4d06-d498-d634d157a538"
   },
   "outputs": [],
   "source": [
    "# Mean fare for all titanic passengers\n",
    "round(titanic['Fare'].mean(), 2)"
   ]
  },
  {
   "cell_type": "code",
   "execution_count": null,
   "metadata": {
    "colab": {
     "base_uri": "https://localhost:8080/"
    },
    "executionInfo": {
     "elapsed": 41,
     "status": "ok",
     "timestamp": 1667459358493,
     "user": {
      "displayName": "smita agrawal",
      "userId": "04686904704582634040"
     },
     "user_tz": -780
    },
    "id": "01B2N1H36ktY",
    "outputId": "9df46891-c7c2-4225-817b-46961d3f7d7b"
   },
   "outputs": [],
   "source": [
    "# how many classes are there in Pclass?\n",
    "\n",
    "classes = titanic['Pclass'].sort_values().unique()\n",
    "print(classes)"
   ]
  },
  {
   "cell_type": "markdown",
   "metadata": {
    "id": "Mv8aG16E6ktY"
   },
   "source": [
    "### First pass: Using loops"
   ]
  },
  {
   "cell_type": "code",
   "execution_count": null,
   "metadata": {
    "colab": {
     "base_uri": "https://localhost:8080/"
    },
    "executionInfo": {
     "elapsed": 42,
     "status": "ok",
     "timestamp": 1667459359384,
     "user": {
      "displayName": "smita agrawal",
      "userId": "04686904704582634040"
     },
     "user_tz": -780
    },
    "id": "kyYH6h7x6ktZ",
    "outputId": "37806f6d-4411-4bf4-a149-a4c087aa41cf"
   },
   "outputs": [],
   "source": [
    "# Find unique values in Pclass \n",
    "classes = titanic['Pclass'].sort_values().unique()\n",
    "\n",
    "# Save empty list to store mean fare of each class\n",
    "mean_list = []\n",
    "count_list = []\n",
    "\n",
    "# loop: for each Pclass, find the mean fare and store in list\n",
    "for p_class in classes:\n",
    "    mean = titanic[titanic['Pclass'] == p_class]['Fare'].mean()\n",
    "    mean_list.append(mean)\n",
    "    \n",
    "    count = len(titanic[titanic['Pclass'] == p_class]['Fare'])\n",
    "    count_list.append(count)\n",
    "    \n",
    "    # print(\"Loop {}\".format(p_class))\n",
    "    # print(mean_list)\n",
    "    # print(count_list)\n",
    "    \n",
    "print(mean_list, count_list)"
   ]
  },
  {
   "cell_type": "code",
   "execution_count": null,
   "metadata": {
    "colab": {
     "base_uri": "https://localhost:8080/",
     "height": 143
    },
    "executionInfo": {
     "elapsed": 40,
     "status": "ok",
     "timestamp": 1667459359385,
     "user": {
      "displayName": "smita agrawal",
      "userId": "04686904704582634040"
     },
     "user_tz": -780
    },
    "id": "Uj0yQ_T96ktZ",
    "outputId": "9f076df0-9575-491e-d452-0a0f73754cce"
   },
   "outputs": [],
   "source": [
    "# How do we get our lists into a DataFrame?\n",
    "\n",
    "fare_stats_df = pd.DataFrame({'Pclass': classes, 'Count': count_list, 'Mean Fare': mean_list}) # Keys are column names, values are lists\n",
    "fare_stats_df"
   ]
  },
  {
   "cell_type": "markdown",
   "metadata": {
    "id": "pmkd4IK76ktZ"
   },
   "source": [
    "### Alternate: Use `groupby()` method"
   ]
  },
  {
   "cell_type": "code",
   "execution_count": null,
   "metadata": {
    "id": "gF6_nqoD8bf8",
    "outputId": "e908c7ec-6014-4efa-a9d9-b1a8df0eafe7"
   },
   "outputs": [],
   "source": [
    "# Find mean fare grouped by Pclass\n",
    "\n",
    "fare_mean_count = titanic.groupby(['Pclass'])['Fare'].mean()\n",
    "fare_mean_count"
   ]
  },
  {
   "cell_type": "code",
   "execution_count": null,
   "metadata": {
    "colab": {
     "base_uri": "https://localhost:8080/",
     "height": 175
    },
    "executionInfo": {
     "elapsed": 34,
     "status": "ok",
     "timestamp": 1667459359386,
     "user": {
      "displayName": "smita agrawal",
      "userId": "04686904704582634040"
     },
     "user_tz": -780
    },
    "id": "mF9fbsyO6ktZ",
    "outputId": "9a5f0c81-1ee0-42d6-fc0f-54d2eec89550"
   },
   "outputs": [],
   "source": [
    "# Find mean fare grouped by Pclass\n",
    "\n",
    "fare_mean_count = titanic.groupby(['Pclass'])['Fare'].agg(['count', 'mean'])\n",
    "fare_mean_count"
   ]
  },
  {
   "cell_type": "code",
   "execution_count": null,
   "metadata": {
    "id": "6ZxuU_-P8bf9",
    "outputId": "1e362e6a-aea3-4528-d70b-c637c2525eee"
   },
   "outputs": [],
   "source": [
    "# Find mean fare grouped by Pclass\n",
    "\n",
    "fare_summ_stats = titanic.groupby(['Pclass'])['Fare'].agg(['count', 'min', 'mean', 'median', 'std', 'max'])\n",
    "fare_summ_stats.columns = ['No. of Passengers', 'Min. Fare', 'Avg. Fare', 'Median Fare', 'Std. Dev. Fare', 'Max Fare']\n",
    "fare_summ_stats"
   ]
  },
  {
   "cell_type": "markdown",
   "metadata": {
    "id": "A5cXcYNM6ktZ"
   },
   "source": [
    "## Rename columns"
   ]
  },
  {
   "cell_type": "code",
   "execution_count": null,
   "metadata": {
    "id": "ezOja-wW8bf9",
    "outputId": "4e546d19-589e-492e-cbfc-cde7b60c51f1"
   },
   "outputs": [],
   "source": [
    "titanic.columns"
   ]
  },
  {
   "cell_type": "code",
   "execution_count": null,
   "metadata": {
    "colab": {
     "base_uri": "https://localhost:8080/"
    },
    "executionInfo": {
     "elapsed": 31,
     "status": "ok",
     "timestamp": 1667459359387,
     "user": {
      "displayName": "smita agrawal",
      "userId": "04686904704582634040"
     },
     "user_tz": -780
    },
    "id": "tZbiRGSV6kta",
    "outputId": "c35417e4-f2ce-41fc-92ff-dad80af18af8"
   },
   "outputs": [],
   "source": [
    "print(fare_mean_count.columns)"
   ]
  },
  {
   "cell_type": "code",
   "execution_count": null,
   "metadata": {
    "colab": {
     "base_uri": "https://localhost:8080/",
     "height": 175
    },
    "executionInfo": {
     "elapsed": 24,
     "status": "ok",
     "timestamp": 1667459359388,
     "user": {
      "displayName": "smita agrawal",
      "userId": "04686904704582634040"
     },
     "user_tz": -780
    },
    "id": "vSYUohEb6kta",
    "outputId": "5555566b-fa1c-42e5-de79-59919e9cbf6a"
   },
   "outputs": [],
   "source": [
    "# Rename columns by assigning list of new column names to .columns\n",
    "fare_mean_count.columns = ['No. Passengers', 'Mean Fare']\n",
    "fare_mean_count"
   ]
  },
  {
   "cell_type": "code",
   "execution_count": null,
   "metadata": {
    "colab": {
     "base_uri": "https://localhost:8080/",
     "height": 175
    },
    "executionInfo": {
     "elapsed": 23,
     "status": "ok",
     "timestamp": 1667459359390,
     "user": {
      "displayName": "smita agrawal",
      "userId": "04686904704582634040"
     },
     "user_tz": -780
    },
    "id": "kG1Rhwa16ktb",
    "outputId": "1e23a288-e6e9-4e24-b89f-7c3d10488012"
   },
   "outputs": [],
   "source": [
    "# Using .rename() on index and columns\n",
    "fare_mean_count2 =  fare_mean_count.rename(index={1: 'First',\n",
    "                                                  2: 'Second',\n",
    "                                                  3: 'Third'},\n",
    "                                           columns={'No. Passengers': 'Count',\n",
    "                                                    'Fare': 'Mean'})\n",
    "fare_mean_count2"
   ]
  },
  {
   "cell_type": "markdown",
   "metadata": {
    "id": "HdJ9hO0Emlfq"
   },
   "source": [
    "\n",
    "\n",
    "---\n",
    "\n",
    "\n",
    "\n",
    "---\n",
    "\n",
    "\n",
    "\n",
    "> > > > > > > > > © 2023 Institute of Data\n",
    "\n",
    "\n",
    "---\n",
    "\n",
    "\n",
    "\n",
    "---\n",
    "\n",
    "\n",
    "\n"
   ]
  }
 ],
 "metadata": {
  "colab": {
   "provenance": []
  },
  "kernelspec": {
   "display_name": "Python 3 (ipykernel)",
   "language": "python",
   "name": "python3"
  },
  "language_info": {
   "codemirror_mode": {
    "name": "ipython",
    "version": 3
   },
   "file_extension": ".py",
   "mimetype": "text/x-python",
   "name": "python",
   "nbconvert_exporter": "python",
   "pygments_lexer": "ipython3",
   "version": "3.8.8"
  },
  "varInspector": {
   "cols": {
    "lenName": 16,
    "lenType": 16,
    "lenVar": 40
   },
   "kernels_config": {
    "python": {
     "delete_cmd_postfix": "",
     "delete_cmd_prefix": "del ",
     "library": "var_list.py",
     "varRefreshCmd": "print(var_dic_list())"
    },
    "r": {
     "delete_cmd_postfix": ") ",
     "delete_cmd_prefix": "rm(",
     "library": "var_list.r",
     "varRefreshCmd": "cat(var_dic_list()) "
    }
   },
   "types_to_exclude": [
    "module",
    "function",
    "builtin_function_or_method",
    "instance",
    "_Feature"
   ],
   "window_display": false
  }
 },
 "nbformat": 4,
 "nbformat_minor": 4
}
